{
  "nbformat": 4,
  "nbformat_minor": 0,
  "metadata": {
    "colab": {
      "name": "pyspark.ipynb",
      "provenance": [],
      "authorship_tag": "ABX9TyNeSkDUTo2Zj7pD201/5/dO",
      "include_colab_link": true
    },
    "kernelspec": {
      "name": "python3",
      "display_name": "Python 3"
    }
  },
  "cells": [
    {
      "cell_type": "markdown",
      "metadata": {
        "id": "view-in-github",
        "colab_type": "text"
      },
      "source": [
        "<a href=\"https://colab.research.google.com/github/kkthej/EyeTracker/blob/master/pyspark.ipynb\" target=\"_parent\"><img src=\"https://colab.research.google.com/assets/colab-badge.svg\" alt=\"Open In Colab\"/></a>"
      ]
    },
    {
      "cell_type": "markdown",
      "metadata": {
        "id": "Icmkazsd8QHU",
        "colab_type": "text"
      },
      "source": [
        "# **installing  pyspark and py4j**\n"
      ]
    },
    {
      "cell_type": "code",
      "metadata": {
        "id": "LwfM4Mhb6U9D",
        "colab_type": "code",
        "colab": {
          "base_uri": "https://localhost:8080/",
          "height": 51
        },
        "outputId": "e68e5b9e-e1d0-405c-be91-80fbcbaaeee7"
      },
      "source": [
        "!pip install pyspark\n"
      ],
      "execution_count": 25,
      "outputs": [
        {
          "output_type": "stream",
          "text": [
            "Requirement already satisfied: pyspark in /usr/local/lib/python3.6/dist-packages (3.0.0)\n",
            "Requirement already satisfied: py4j==0.10.9 in /usr/local/lib/python3.6/dist-packages (from pyspark) (0.10.9)\n"
          ],
          "name": "stdout"
        }
      ]
    },
    {
      "cell_type": "markdown",
      "metadata": {
        "id": "kg9TrO-iA_GI",
        "colab_type": "text"
      },
      "source": [
        "# **setting up path for java and spark**"
      ]
    },
    {
      "cell_type": "code",
      "metadata": {
        "id": "yuzFFVqU7q08",
        "colab_type": "code",
        "colab": {}
      },
      "source": [
        "import os\n",
        "os.environ[\"JAVA_HOME\"] = \"/usr/lib/jvm/java-8-openjdk-amd64\"\n",
        "os.environ[\"SPARK_HOME\"] = \"/usr/local/lib/python3.6/dist-packages/pyspark\"\n",
        "\n"
      ],
      "execution_count": 36,
      "outputs": []
    },
    {
      "cell_type": "markdown",
      "metadata": {
        "id": "kbg0JUuTBQjz",
        "colab_type": "text"
      },
      "source": [
        "print list of files in sample data"
      ]
    },
    {
      "cell_type": "code",
      "metadata": {
        "id": "uS4pOV49_5Zi",
        "colab_type": "code",
        "colab": {
          "base_uri": "https://localhost:8080/",
          "height": 54
        },
        "outputId": "ebc69e25-a62b-48aa-c2dd-c55169b49c47"
      },
      "source": [
        "print (os.listdir('./sample_data'))"
      ],
      "execution_count": 45,
      "outputs": [
        {
          "output_type": "stream",
          "text": [
            "['anscombe.json', 'README.md', 'transactions.csv', 'olympics.csv', 'users.csv', 'california_housing_test.csv', 'mnist_test.csv', 'mnist_train_small.csv', 'california_housing_train.csv']\n"
          ],
          "name": "stdout"
        }
      ]
    },
    {
      "cell_type": "code",
      "metadata": {
        "id": "VhmWDOca_74H",
        "colab_type": "code",
        "colab": {}
      },
      "source": [
        "transactions = './sample_data/transactions.csv'\n",
        "users = './sample_data/users.csv'"
      ],
      "execution_count": 46,
      "outputs": []
    },
    {
      "cell_type": "code",
      "metadata": {
        "id": "f9Bknp_X7ujM",
        "colab_type": "code",
        "colab": {}
      },
      "source": [
        "import findspark\n",
        "findspark.init()\n"
      ],
      "execution_count": 47,
      "outputs": []
    },
    {
      "cell_type": "code",
      "metadata": {
        "id": "2aYDV3Q1AOME",
        "colab_type": "code",
        "colab": {}
      },
      "source": [
        "from pyspark.sql import SparkSession\n",
        "spark = SparkSession.builder.master(\"local[*]\").getOrCreate()"
      ],
      "execution_count": 53,
      "outputs": []
    },
    {
      "cell_type": "code",
      "metadata": {
        "id": "L3OjcRQwAUcK",
        "colab_type": "code",
        "colab": {}
      },
      "source": [
        "df = spark.read.csv(users, inferSchema=True, header =True)"
      ],
      "execution_count": 54,
      "outputs": []
    },
    {
      "cell_type": "code",
      "metadata": {
        "id": "_txnm3HIAZI8",
        "colab_type": "code",
        "colab": {
          "base_uri": "https://localhost:8080/",
          "height": 34
        },
        "outputId": "205467e6-c938-4415-81bd-c896aace01f3"
      },
      "source": [
        "print (type(df))"
      ],
      "execution_count": 55,
      "outputs": [
        {
          "output_type": "stream",
          "text": [
            "<class 'pyspark.sql.dataframe.DataFrame'>\n"
          ],
          "name": "stdout"
        }
      ]
    },
    {
      "cell_type": "code",
      "metadata": {
        "id": "LLy-5uARAdzl",
        "colab_type": "code",
        "colab": {
          "base_uri": "https://localhost:8080/",
          "height": 119
        },
        "outputId": "c17cbe13-789e-4c26-e134-050107a33114"
      },
      "source": [
        "df.printSchema()"
      ],
      "execution_count": 56,
      "outputs": [
        {
          "output_type": "stream",
          "text": [
            "root\n",
            " |-- 1: integer (nullable = true)\n",
            " |-- user1@company.com: string (nullable = true)\n",
            " |-- ES: string (nullable = true)\n",
            " |-- MX: string (nullable = true)\n",
            "\n"
          ],
          "name": "stdout"
        }
      ]
    },
    {
      "cell_type": "code",
      "metadata": {
        "id": "Ovhq99kCAhxf",
        "colab_type": "code",
        "colab": {
          "base_uri": "https://localhost:8080/",
          "height": 459
        },
        "outputId": "c2949469-3a65-4730-c5d2-8b67dc481454"
      },
      "source": [
        "df.show()"
      ],
      "execution_count": 57,
      "outputs": [
        {
          "output_type": "stream",
          "text": [
            "+---+------------------+---+---+\n",
            "|  1| user1@company.com| ES| MX|\n",
            "+---+------------------+---+---+\n",
            "|  2|  user4@domain.com| EN| US|\n",
            "|  3| user5@company.com| FR| FR|\n",
            "|  4|    user9@site.org| HI| IN|\n",
            "|  5| user12@service.io| EN| CA|\n",
            "|  6|user17@website.net| FR| FR|\n",
            "|  7|user21@company.com| FR| FR|\n",
            "|  8|user25@company.com| FR| FR|\n",
            "|  9| user27@school.edu| ES| MX|\n",
            "| 10|user31@website.net| EN| CA|\n",
            "| 11|user36@website.net| FR| FR|\n",
            "| 12| user39@domain.com| FR| FR|\n",
            "| 13|user41@company.com| ES| MX|\n",
            "| 14| user45@domain.com| HI| IN|\n",
            "| 15|   user48@site.org| ES| MX|\n",
            "| 16| user53@school.edu| EN| US|\n",
            "| 17| user57@school.edu| ES| MX|\n",
            "| 18|user59@website.net| HI| IN|\n",
            "| 19| user64@school.edu| EN| US|\n",
            "| 20| user67@domain.com| HI| IN|\n",
            "| 21|   user68@site.org| EN| US|\n",
            "+---+------------------+---+---+\n",
            "only showing top 20 rows\n",
            "\n"
          ],
          "name": "stdout"
        }
      ]
    }
  ]
}